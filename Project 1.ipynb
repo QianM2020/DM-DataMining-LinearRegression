{
 "cells": [
  {
   "cell_type": "markdown",
   "metadata": {},
   "source": [
    "# Business Understanding\n",
    "\n",
    "Firstly, I brought 3 questions to explore throughout the data. \n",
    "  1. What's the target market of Stackoverflow?\n",
    "  2. What are the most popular platforms and languages among the Employed Professional Developers?\n",
    "  3. What relates to the Employed Professional Developers' job satisfaction?"
   ]
  },
  {
   "cell_type": "markdown",
   "metadata": {},
   "source": [
    "# Data Understanding\n",
    "\n",
    "Here we used the StackOverflow data to attempt to answer our questions of interest. \n",
    "To get started, let's read in the necessary python libraries and data.\n",
    "First, let's take a look at the data."
   ]
  },
  {
   "cell_type": "code",
   "execution_count": 181,
   "metadata": {
    "scrolled": true
   },
   "outputs": [
    {
     "data": {
      "text/html": [
       "<div>\n",
       "<style scoped>\n",
       "    .dataframe tbody tr th:only-of-type {\n",
       "        vertical-align: middle;\n",
       "    }\n",
       "\n",
       "    .dataframe tbody tr th {\n",
       "        vertical-align: top;\n",
       "    }\n",
       "\n",
       "    .dataframe thead th {\n",
       "        text-align: right;\n",
       "    }\n",
       "</style>\n",
       "<table border=\"1\" class=\"dataframe\">\n",
       "  <thead>\n",
       "    <tr style=\"text-align: right;\">\n",
       "      <th></th>\n",
       "      <th>Respondent</th>\n",
       "      <th>Professional</th>\n",
       "      <th>ProgramHobby</th>\n",
       "      <th>Country</th>\n",
       "      <th>University</th>\n",
       "      <th>EmploymentStatus</th>\n",
       "      <th>FormalEducation</th>\n",
       "      <th>MajorUndergrad</th>\n",
       "      <th>HomeRemote</th>\n",
       "      <th>CompanySize</th>\n",
       "      <th>...</th>\n",
       "      <th>StackOverflowMakeMoney</th>\n",
       "      <th>Gender</th>\n",
       "      <th>HighestEducationParents</th>\n",
       "      <th>Race</th>\n",
       "      <th>SurveyLong</th>\n",
       "      <th>QuestionsInteresting</th>\n",
       "      <th>QuestionsConfusing</th>\n",
       "      <th>InterestedAnswers</th>\n",
       "      <th>Salary</th>\n",
       "      <th>ExpectedSalary</th>\n",
       "    </tr>\n",
       "  </thead>\n",
       "  <tbody>\n",
       "    <tr>\n",
       "      <th>0</th>\n",
       "      <td>1</td>\n",
       "      <td>Student</td>\n",
       "      <td>Yes, both</td>\n",
       "      <td>United States</td>\n",
       "      <td>No</td>\n",
       "      <td>Not employed, and not looking for work</td>\n",
       "      <td>Secondary school</td>\n",
       "      <td>NaN</td>\n",
       "      <td>NaN</td>\n",
       "      <td>NaN</td>\n",
       "      <td>...</td>\n",
       "      <td>Strongly disagree</td>\n",
       "      <td>Male</td>\n",
       "      <td>High school</td>\n",
       "      <td>White or of European descent</td>\n",
       "      <td>Strongly disagree</td>\n",
       "      <td>Strongly agree</td>\n",
       "      <td>Disagree</td>\n",
       "      <td>Strongly agree</td>\n",
       "      <td>NaN</td>\n",
       "      <td>NaN</td>\n",
       "    </tr>\n",
       "    <tr>\n",
       "      <th>1</th>\n",
       "      <td>2</td>\n",
       "      <td>Student</td>\n",
       "      <td>Yes, both</td>\n",
       "      <td>United Kingdom</td>\n",
       "      <td>Yes, full-time</td>\n",
       "      <td>Employed part-time</td>\n",
       "      <td>Some college/university study without earning ...</td>\n",
       "      <td>Computer science or software engineering</td>\n",
       "      <td>More than half, but not all, the time</td>\n",
       "      <td>20 to 99 employees</td>\n",
       "      <td>...</td>\n",
       "      <td>Strongly disagree</td>\n",
       "      <td>Male</td>\n",
       "      <td>A master's degree</td>\n",
       "      <td>White or of European descent</td>\n",
       "      <td>Somewhat agree</td>\n",
       "      <td>Somewhat agree</td>\n",
       "      <td>Disagree</td>\n",
       "      <td>Strongly agree</td>\n",
       "      <td>NaN</td>\n",
       "      <td>37500.0</td>\n",
       "    </tr>\n",
       "    <tr>\n",
       "      <th>2</th>\n",
       "      <td>3</td>\n",
       "      <td>Professional developer</td>\n",
       "      <td>Yes, both</td>\n",
       "      <td>United Kingdom</td>\n",
       "      <td>No</td>\n",
       "      <td>Employed full-time</td>\n",
       "      <td>Bachelor's degree</td>\n",
       "      <td>Computer science or software engineering</td>\n",
       "      <td>Less than half the time, but at least one day ...</td>\n",
       "      <td>10,000 or more employees</td>\n",
       "      <td>...</td>\n",
       "      <td>Disagree</td>\n",
       "      <td>Male</td>\n",
       "      <td>A professional degree</td>\n",
       "      <td>White or of European descent</td>\n",
       "      <td>Somewhat agree</td>\n",
       "      <td>Agree</td>\n",
       "      <td>Disagree</td>\n",
       "      <td>Agree</td>\n",
       "      <td>113750.0</td>\n",
       "      <td>NaN</td>\n",
       "    </tr>\n",
       "    <tr>\n",
       "      <th>3</th>\n",
       "      <td>4</td>\n",
       "      <td>Professional non-developer who sometimes write...</td>\n",
       "      <td>Yes, both</td>\n",
       "      <td>United States</td>\n",
       "      <td>No</td>\n",
       "      <td>Employed full-time</td>\n",
       "      <td>Doctoral degree</td>\n",
       "      <td>A non-computer-focused engineering discipline</td>\n",
       "      <td>Less than half the time, but at least one day ...</td>\n",
       "      <td>10,000 or more employees</td>\n",
       "      <td>...</td>\n",
       "      <td>Disagree</td>\n",
       "      <td>Male</td>\n",
       "      <td>A doctoral degree</td>\n",
       "      <td>White or of European descent</td>\n",
       "      <td>Agree</td>\n",
       "      <td>Agree</td>\n",
       "      <td>Somewhat agree</td>\n",
       "      <td>Strongly agree</td>\n",
       "      <td>NaN</td>\n",
       "      <td>NaN</td>\n",
       "    </tr>\n",
       "    <tr>\n",
       "      <th>4</th>\n",
       "      <td>5</td>\n",
       "      <td>Professional developer</td>\n",
       "      <td>Yes, I program as a hobby</td>\n",
       "      <td>Switzerland</td>\n",
       "      <td>No</td>\n",
       "      <td>Employed full-time</td>\n",
       "      <td>Master's degree</td>\n",
       "      <td>Computer science or software engineering</td>\n",
       "      <td>Never</td>\n",
       "      <td>10 to 19 employees</td>\n",
       "      <td>...</td>\n",
       "      <td>NaN</td>\n",
       "      <td>NaN</td>\n",
       "      <td>NaN</td>\n",
       "      <td>NaN</td>\n",
       "      <td>NaN</td>\n",
       "      <td>NaN</td>\n",
       "      <td>NaN</td>\n",
       "      <td>NaN</td>\n",
       "      <td>NaN</td>\n",
       "      <td>NaN</td>\n",
       "    </tr>\n",
       "  </tbody>\n",
       "</table>\n",
       "<p>5 rows × 154 columns</p>\n",
       "</div>"
      ],
      "text/plain": [
       "   Respondent                                       Professional  \\\n",
       "0           1                                            Student   \n",
       "1           2                                            Student   \n",
       "2           3                             Professional developer   \n",
       "3           4  Professional non-developer who sometimes write...   \n",
       "4           5                             Professional developer   \n",
       "\n",
       "                ProgramHobby         Country      University  \\\n",
       "0                  Yes, both   United States              No   \n",
       "1                  Yes, both  United Kingdom  Yes, full-time   \n",
       "2                  Yes, both  United Kingdom              No   \n",
       "3                  Yes, both   United States              No   \n",
       "4  Yes, I program as a hobby     Switzerland              No   \n",
       "\n",
       "                         EmploymentStatus  \\\n",
       "0  Not employed, and not looking for work   \n",
       "1                      Employed part-time   \n",
       "2                      Employed full-time   \n",
       "3                      Employed full-time   \n",
       "4                      Employed full-time   \n",
       "\n",
       "                                     FormalEducation  \\\n",
       "0                                   Secondary school   \n",
       "1  Some college/university study without earning ...   \n",
       "2                                  Bachelor's degree   \n",
       "3                                    Doctoral degree   \n",
       "4                                    Master's degree   \n",
       "\n",
       "                                  MajorUndergrad  \\\n",
       "0                                            NaN   \n",
       "1       Computer science or software engineering   \n",
       "2       Computer science or software engineering   \n",
       "3  A non-computer-focused engineering discipline   \n",
       "4       Computer science or software engineering   \n",
       "\n",
       "                                          HomeRemote  \\\n",
       "0                                                NaN   \n",
       "1              More than half, but not all, the time   \n",
       "2  Less than half the time, but at least one day ...   \n",
       "3  Less than half the time, but at least one day ...   \n",
       "4                                              Never   \n",
       "\n",
       "                CompanySize       ...       StackOverflowMakeMoney Gender  \\\n",
       "0                       NaN       ...            Strongly disagree   Male   \n",
       "1        20 to 99 employees       ...            Strongly disagree   Male   \n",
       "2  10,000 or more employees       ...                     Disagree   Male   \n",
       "3  10,000 or more employees       ...                     Disagree   Male   \n",
       "4        10 to 19 employees       ...                          NaN    NaN   \n",
       "\n",
       "  HighestEducationParents                          Race         SurveyLong  \\\n",
       "0             High school  White or of European descent  Strongly disagree   \n",
       "1       A master's degree  White or of European descent     Somewhat agree   \n",
       "2   A professional degree  White or of European descent     Somewhat agree   \n",
       "3       A doctoral degree  White or of European descent              Agree   \n",
       "4                     NaN                           NaN                NaN   \n",
       "\n",
       "  QuestionsInteresting QuestionsConfusing InterestedAnswers    Salary  \\\n",
       "0       Strongly agree           Disagree    Strongly agree       NaN   \n",
       "1       Somewhat agree           Disagree    Strongly agree       NaN   \n",
       "2                Agree           Disagree             Agree  113750.0   \n",
       "3                Agree     Somewhat agree    Strongly agree       NaN   \n",
       "4                  NaN                NaN               NaN       NaN   \n",
       "\n",
       "   ExpectedSalary  \n",
       "0             NaN  \n",
       "1         37500.0  \n",
       "2             NaN  \n",
       "3             NaN  \n",
       "4             NaN  \n",
       "\n",
       "[5 rows x 154 columns]"
      ]
     },
     "execution_count": 181,
     "metadata": {},
     "output_type": "execute_result"
    }
   ],
   "source": [
    "import numpy as np\n",
    "import pandas as pd\n",
    "from collections import defaultdict\n",
    "import matplotlib.pyplot as plt\n",
    "import HowToBreakIntoTheField as t\n",
    "%matplotlib inline\n",
    "\n",
    "from sklearn.linear_model import LinearRegression\n",
    "from sklearn.model_selection import train_test_split\n",
    "from sklearn.metrics import r2_score, mean_squared_error\n",
    "\n",
    "df = pd.read_csv('./survey_results_public.csv')\n",
    "schema = pd.read_csv('./survey_results_schema.csv')\n",
    "df.head()"
   ]
  },
  {
   "cell_type": "code",
   "execution_count": 2,
   "metadata": {},
   "outputs": [
    {
     "data": {
      "text/plain": [
       "(19102, 154)"
      ]
     },
     "execution_count": 2,
     "metadata": {},
     "output_type": "execute_result"
    }
   ],
   "source": [
    "df.shape"
   ]
  },
  {
   "cell_type": "markdown",
   "metadata": {},
   "source": [
    "# Question 1\n",
    "\n",
    "In order to understand the features of Stackoverflow's users, we will look at the the Professional, EmploymentStatus. Use get_description function below to take a closer look at the definiation of them.\n",
    "Provide a pandas series of the different Professional and EmploymentStatus status values in the dataset. \n",
    "Plot bar charts of the proportion of individuals in each status. "
   ]
  },
  {
   "cell_type": "code",
   "execution_count": 22,
   "metadata": {},
   "outputs": [],
   "source": [
    "def get_description(column_name, schema=schema):\n",
    "    '''\n",
    "    function is used to check the definition of columns in df \n",
    "    INPUT - schema - pandas dataframe with the schema of the developers survey\n",
    "            column_name - string - the name of the column you would like to know about\n",
    "    OUTPUT - \n",
    "            desc - string - the description of the column\n",
    "    '''\n",
    "    desc = list(schema[schema['Column'] == column_name]['Question'])[0]\n",
    "    return desc\n"
   ]
  },
  {
   "cell_type": "code",
   "execution_count": 28,
   "metadata": {
    "scrolled": true
   },
   "outputs": [
    {
     "name": "stdout",
     "output_type": "stream",
     "text": [
      "Professional means Which of the following best describes you?\n",
      "EmploymentStatus means Which of the following best describes your current employment status?\n"
     ]
    }
   ],
   "source": [
    "# check the schema contents for 2 fields\n",
    "a = get_description('Professional')\n",
    "b = get_description('EmploymentStatus')\n",
    "print('Professional means {}\\nEmploymentStatus means {}'.format(a,b))"
   ]
  },
  {
   "cell_type": "code",
   "execution_count": 29,
   "metadata": {},
   "outputs": [
    {
     "name": "stdout",
     "output_type": "stream",
     "text": [
      "0 missing values\n"
     ]
    }
   ],
   "source": [
    "# check Nah in 2 fields\n",
    "a = sum(df['Professional'].isnull())  # 0 missing values\n",
    "b = sum(df['EmploymentStatus'].isnull())  # 0 missing values\n",
    "print('{} missing values'.format(a+b) )"
   ]
  },
  {
   "cell_type": "code",
   "execution_count": 53,
   "metadata": {},
   "outputs": [
    {
     "name": "stdout",
     "output_type": "stream",
     "text": [
      "['Professional developer', 'Student', 'Professional non-developer who sometimes writes code', 'None of these', 'Used to be a professional developer'] ['Employed full-time', 'Independent contractor, freelancer, or self-employed', 'Employed part-time', 'Not employed, and not looking for work', 'Not employed, but looking for work', 'I prefer not to say', 'Retired']\n"
     ]
    }
   ],
   "source": [
    "# check the category items of 2 fields\n",
    "cat_pro = list(df.Professional.value_counts().sort_values(ascending = False).index)\n",
    "cat_epl = list(df.EmploymentStatus.value_counts().sort_values(ascending = False).index)\n",
    "print(cat_pro,cat_epl)"
   ]
  },
  {
   "cell_type": "code",
   "execution_count": 104,
   "metadata": {},
   "outputs": [
    {
     "data": {
      "text/plain": [
       "(19102, 156)"
      ]
     },
     "execution_count": 104,
     "metadata": {},
     "output_type": "execute_result"
    }
   ],
   "source": [
    "#Data transform\n",
    "\n",
    "# Divide user into employed and unemployed \n",
    "df['Eplyed'] = df['EmploymentStatus'].apply(lambda x:'Emp' if x in ['Employed full-time','Independent contractor, freelancer, or self-employed','Employed part-time'] else 'NoEmp')\n",
    "# Divide user into professional developer and unprofessional \n",
    "df['Profl'] = df['Professional'].apply(lambda x:'Pro' if x == 'Professional developer' else 'NoPro')\n",
    "\n",
    "df.shape"
   ]
  },
  {
   "cell_type": "code",
   "execution_count": 121,
   "metadata": {
    "scrolled": true
   },
   "outputs": [
    {
     "data": {
      "text/plain": [
       "Text(0,0.5,'rate')"
      ]
     },
     "execution_count": 121,
     "metadata": {},
     "output_type": "execute_result"
    },
    {
     "data": {
      "image/png": "[encoded data removed]",
      "text/plain": [
       "<matplotlib.figure.Figure at 0x7f46b57c6e10>"
      ]
     },
     "metadata": {
      "needs_background": "light"
     },
     "output_type": "display_data"
    }
   ],
   "source": [
    "#bar plot show the proportion of professional developers and non-professional users\n",
    "dp = df.Profl.value_counts().sort_values(ascending = True)\n",
    "ttl=df.shape[0]\n",
    "(dp/ttl).plot(kind=\"bar\") \n",
    "plt.title(\"Developer's Type\")\n",
    "plt.xticks(rotation = 0)\n",
    "for i in range(len(dp)):\n",
    "    count = round(dp[i]/ttl,3)\n",
    "    plt.text(i, count+0.03, count, ha = 'center', va='top')\n",
    "plt.ylabel('rate')"
   ]
  },
  {
   "cell_type": "code",
   "execution_count": 122,
   "metadata": {},
   "outputs": [
    {
     "data": {
      "text/plain": [
       "Text(0,0.5,'rate')"
      ]
     },
     "execution_count": 122,
     "metadata": {},
     "output_type": "execute_result"
    },
    {
     "data": {
      "image/png": "[encoded data removed]",
      "text/plain": [
       "<matplotlib.figure.Figure at 0x7f46b580fa58>"
      ]
     },
     "metadata": {
      "needs_background": "light"
     },
     "output_type": "display_data"
    }
   ],
   "source": [
    "#bar plot show the proportion of employed and non-employed users\n",
    "de = df.Eplyed.value_counts().sort_values(ascending = True)\n",
    "ttl=df.shape[0]\n",
    "(de/ttl).plot(kind=\"bar\") \n",
    "plt.title(\"Employment Status\")\n",
    "plt.xticks(rotation = 0)\n",
    "for i in range(len(de)):\n",
    "    count = round(de[i]/ttl,3)\n",
    "    plt.text(i, count+0.03, count, ha = 'center', va='top')\n",
    "plt.ylabel('rate')"
   ]
  },
  {
   "cell_type": "code",
   "execution_count": 123,
   "metadata": {},
   "outputs": [
    {
     "data": {
      "text/plain": [
       "Text(0.5,0,'Status')"
      ]
     },
     "execution_count": 123,
     "metadata": {},
     "output_type": "execute_result"
    },
    {
     "data": {
      "image/png": "[encoded data removed]",
      "text/plain": [
       "<matplotlib.figure.Figure at 0x7f46b58b0f98>"
      ]
     },
     "metadata": {
      "needs_background": "light"
     },
     "output_type": "display_data"
    }
   ],
   "source": [
    "# Different rate of 'pro'/'nonpro' and 'Employed'/'NonEmployed'\n",
    "dpe = df.groupby(['Profl','Eplyed']).size().sort_values(ascending = True)\n",
    "ttl=df.shape[0]\n",
    "(dpe/ttl).plot(kind='bar')\n",
    "plt.title(\"Employed Professional Developer\")\n",
    "for i in range(len(dpe)):\n",
    "    count = round(dpe[i]/ttl,3)\n",
    "    plt.text(i, count+0.03, count, ha = 'center', va='top')\n",
    "plt.ylabel('rate')\n",
    "plt.xlabel('Status')"
   ]
  },
  {
   "cell_type": "code",
   "execution_count": null,
   "metadata": {},
   "outputs": [],
   "source": [
    "print('The above diagrams show that more than 70% of all the Stackoverflow users are professional developers, and about 87% users are working.\n",
    "      Totally, about 70% are employed profession developers.Besides, many amateur programers are using this platform. It can be \n",
    "      explained as they can find some solutions here for their works or for their hobbies.In the other hand, only 1.4 users are unemployed programer.\n",
    "      This inplies that the platform does not give them sufficient useful information. Generally, the plat form tend to practical resource \n",
    "      since most users are busy salaryman. Most questions and solutions are reliable, since most users are professionnal developers.')"
   ]
  },
  {
   "cell_type": "markdown",
   "metadata": {},
   "source": [
    "# 2. What are the most popular platforms and Database among the Employed Professional Developers?\n",
    "\n",
    "Let's take a closer look at the HaveWorkedLanguage and WantWorkLanguage column, HaveWorkedFramework and WantWorkFramework column, HaveWorkedDatabase and WantWorkDatabase column, and HaveWorkedPlatform and WantWorkPlatform column with 'Professional Employed Developers'data. "
   ]
  },
  {
   "cell_type": "code",
   "execution_count": 142,
   "metadata": {},
   "outputs": [
    {
     "data": {
      "text/plain": [
       "(13498, 156)"
      ]
     },
     "execution_count": 142,
     "metadata": {},
     "output_type": "execute_result"
    }
   ],
   "source": [
    "#get Employed professional Developers' data\n",
    "df_EP = df[df.Profl== 'Pro']\n",
    "df_EP = df_EP[df_EP.Eplyed == 'Emp']\n",
    "df_EP.shape"
   ]
  },
  {
   "cell_type": "code",
   "execution_count": 176,
   "metadata": {},
   "outputs": [],
   "source": [
    "# Choose the fields for compare\n",
    "sub1 = df_EP[['HaveWorkedDatabase','WantWorkDatabase']]\n",
    "sub2 = df_EP[['HaveWorkedPlatform', 'WantWorkPlatform']]\n",
    "     \n",
    "# remove missing value of the 'database' and 'platform'\n",
    "sub1_rm = sub1.dropna(how = 'any', subset=['HaveWorkedDatabase','WantWorkDatabase'])\n",
    "sub2_rm = sub2.dropna(how = 'any', subset=['HaveWorkedPlatform','WantWorkPlatform'])"
   ]
  },
  {
   "cell_type": "code",
   "execution_count": 177,
   "metadata": {},
   "outputs": [],
   "source": [
    "possible_vals1 = ['Cassandra','MongoDB','Redis','SQL Server','MySQL','PostgreSQL','Oracle','SQLite']\n",
    "\n",
    "def clean_and_plot_sub1(df, plot=True):\n",
    "    '''\n",
    "    INPUT \n",
    "        df - a dataframe holding the SelfTaughtTypes column\n",
    "        title - string the title of your plot\n",
    "        axis - axis object\n",
    "        plot - bool providing whether or not you want a plot back\n",
    "        \n",
    "    OUTPUT\n",
    "        study_df - a dataframe with the count of how many individuals\n",
    "        Displays a plot of pretty things related to the SelfTaughtTypes column.\n",
    "    '''\n",
    "    study1 = df['HaveWorkedDatabase'].value_counts().reset_index()\n",
    "    study1.rename(columns={'index': 'method', 'HaveWorkedDatabase': 'count'}, inplace=True)\n",
    "    study_df1 = t.total_count(study1, 'method', 'count', possible_vals3)\n",
    "    \n",
    "    study2 = df['WantWorkDatabase'].value_counts().reset_index()\n",
    "    study2.rename(columns={'index': 'method', 'WantWorkDatabase': 'count'}, inplace=True)\n",
    "    study_df2 = t.total_count(study2, 'method', 'count', possible_vals3)\n",
    "\n",
    "    study_df1.set_index('method', inplace=True)\n",
    "    study_df2.set_index('method', inplace=True)\n",
    "    if plot:\n",
    "        (study_df1/study_df1.sum()).plot(kind='bar', legend=None);\n",
    "        plt.title('Worked Database');\n",
    "        plt.show()\n",
    "        (study_df2/study_df2.sum()).plot(kind='bar', legend=None,color='#d65f5f');\n",
    "        plt.title('Want Database');\n",
    "        plt.show()\n",
    "    props_study_df = (study_df1/study_df1.sum(),study_df2/study_df2.sum())\n",
    "    return props_study_df"
   ]
  },
  {
   "cell_type": "code",
   "execution_count": 178,
   "metadata": {},
   "outputs": [
    {
     "data": {
      "image/png": "[encoded data removed]",
      "text/plain": [
       "<matplotlib.figure.Figure at 0x7f46b56a3be0>"
      ]
     },
     "metadata": {
      "needs_background": "light"
     },
     "output_type": "display_data"
    },
    {
     "data": {
      "image/png": "[encoded data removed]",
      "text/plain": [
       "<matplotlib.figure.Figure at 0x7f46b57fd278>"
      ]
     },
     "metadata": {
      "needs_background": "light"
     },
     "output_type": "display_data"
    },
    {
     "data": {
      "text/plain": [
       "(               count\n",
       " method              \n",
       " MySQL       0.243590\n",
       " SQL Server  0.205486\n",
       " PostgreSQL  0.139163\n",
       " SQLite      0.121043\n",
       " MongoDB     0.103567\n",
       " Redis       0.090102\n",
       " Oracle      0.080289\n",
       " Cassandra   0.016760,                count\n",
       " method              \n",
       " MongoDB     0.175191\n",
       " PostgreSQL  0.167199\n",
       " MySQL       0.156637\n",
       " SQL Server  0.148645\n",
       " Redis       0.145101\n",
       " SQLite      0.099514\n",
       " Cassandra   0.060389\n",
       " Oracle      0.047325)"
      ]
     },
     "execution_count": 178,
     "metadata": {},
     "output_type": "execute_result"
    }
   ],
   "source": [
    "clean_and_plot_sub1(sub1_rm)"
   ]
  },
  {
   "cell_type": "code",
   "execution_count": 179,
   "metadata": {},
   "outputs": [],
   "source": [
    "possible_vals2 = ['Android','iOS','Windows Phone','Windows Desktop','Linux Desktop','Mac OS','Amazon Web Services (AWS)','Some other cloud platform (e.g. Google App Engine, Bluemix, Predix, etc.)']\n",
    "\n",
    "def clean_and_plot_sub2(df, plot=True):\n",
    "    '''\n",
    "    INPUT \n",
    "        df - a dataframe holding the SelfTaughtTypes column\n",
    "        title - string the title of your plot\n",
    "        axis - axis object\n",
    "        plot - bool providing whether or not you want a plot back\n",
    "        \n",
    "    OUTPUT\n",
    "        study_df - a dataframe with the count of how many individuals\n",
    "        Displays a plot of pretty things related to the SelfTaughtTypes column.\n",
    "    '''\n",
    "    study1 = df['HaveWorkedPlatform'].value_counts().reset_index()\n",
    "    study1.rename(columns={'index': 'method', 'HaveWorkedPlatform': 'count'}, inplace=True)\n",
    "    study_df1 = t.total_count(study1, 'method', 'count', possible_vals4)\n",
    "    \n",
    "    study2 = df['WantWorkPlatform'].value_counts().reset_index()\n",
    "    study2.rename(columns={'index': 'method', 'WantWorkPlatform': 'count'}, inplace=True)\n",
    "    study_df2 = t.total_count(study2, 'method', 'count', possible_vals4)\n",
    "\n",
    "    study_df1.set_index('method', inplace=True)\n",
    "    study_df2.set_index('method', inplace=True)\n",
    "    if plot:\n",
    "        (study_df1/study_df1.sum()).plot(kind='bar', legend=None);\n",
    "        plt.title('Worked Platform');\n",
    "        plt.show()\n",
    "        (study_df2/study_df2.sum()).plot(kind='bar', legend=None,color='#d65f5f');\n",
    "        plt.title('Want Platform');\n",
    "        plt.show()\n",
    "    props_study_df = (study_df1/study_df1.sum(),study_df2/study_df2.sum())\n",
    "    return props_study_df"
   ]
  },
  {
   "cell_type": "code",
   "execution_count": 180,
   "metadata": {},
   "outputs": [
    {
     "data": {
      "image/png": "[encoded data removed]",
      "text/plain": [
       "<matplotlib.figure.Figure at 0x7f46b56ee128>"
      ]
     },
     "metadata": {
      "needs_background": "light"
     },
     "output_type": "display_data"
    },
    {
     "data": {
      "image/png": "[encoded data removed]",
      "text/plain": [
       "<matplotlib.figure.Figure at 0x7f46b5618cf8>"
      ]
     },
     "metadata": {
      "needs_background": "light"
     },
     "output_type": "display_data"
    },
    {
     "data": {
      "text/plain": [
       "(                              count\n",
       " method                             \n",
       " Windows Desktop            0.234187\n",
       " Amazon Web Services (AWS)  0.198233\n",
       " Linux Desktop              0.178357\n",
       " Android                    0.145848\n",
       " Mac OS                     0.119435\n",
       " iOS                        0.102473\n",
       " Windows Phone              0.021466,                               count\n",
       " method                             \n",
       " Amazon Web Services (AWS)  0.224552\n",
       " Android                    0.184376\n",
       " Linux Desktop              0.167397\n",
       " Windows Desktop            0.148266\n",
       " iOS                        0.136628\n",
       " Mac OS                     0.110562\n",
       " Windows Phone              0.028218)"
      ]
     },
     "execution_count": 180,
     "metadata": {},
     "output_type": "execute_result"
    }
   ],
   "source": [
    "clean_and_plot_sub2(sub2_rm)"
   ]
  },
  {
   "cell_type": "code",
   "execution_count": 28,
   "metadata": {},
   "outputs": [
    {
     "name": "stdout",
     "output_type": "stream",
     "text": [
      "{'The top 3 Databases change from worked to wanted: MySQL > SQL Server > PostgreSQL -> MongoDB > MySQL > PostgreSQL', 'The top 3 programming Languages change from worked to wanted: Javascript>C>SQL -> C>Javascript>Python', 'The top 3 Frameworks: AngularJS,React,.NET Core', 'The top 3 Platforms change from worked to wanted: Windows Desktop>Linux Desktop> AWS -> AWS>Android>Linux Desktop.'}\n"
     ]
    }
   ],
   "source": [
    "print('The top 3 Databases change from worked to wanted: MySQL > SQL Server > PostgreSQL -> MongoDB > MySQL > PostgreSQL',\n",
    "             'The top 3 Platforms change from worked to wanted: Windows Desktop>Linux Desktop> AWS -> AWS>Android>Linux Desktop.'\n",
    ") "
   ]
  },
  {
   "cell_type": "markdown",
   "metadata": {},
   "source": [
    "# 3.What relates to the Employed Professional Developers' job satisfaction?\n",
    "\n",
    "Let's take a closer look at only quantity variables ('CareerSatisfaction', 'JobSatisfaction', 'HoursPerWeek', 'Salary') with 'Professional Employed Developers'data. "
   ]
  },
  {
   "cell_type": "code",
   "execution_count": 185,
   "metadata": {},
   "outputs": [
    {
     "data": {
      "text/plain": [
       "Index(['Respondent', 'CareerSatisfaction', 'JobSatisfaction', 'HoursPerWeek',\n",
       "       'StackOverflowSatisfaction', 'Salary', 'ExpectedSalary'],\n",
       "      dtype='object')"
      ]
     },
     "execution_count": 185,
     "metadata": {},
     "output_type": "execute_result"
    }
   ],
   "source": [
    "# choose quantity variables\n",
    "df.select_dtypes(include=['float', 'int']).columns"
   ]
  },
  {
   "cell_type": "markdown",
   "metadata": {},
   "source": [
    "Using the num_vars dataframe from drop the missing values of the response (JobSatisfaction) - store this in drop_sal_df, then impute the values for all the other missing values with the mean of the column - store this in fill_df."
   ]
  },
  {
   "cell_type": "code",
   "execution_count": 310,
   "metadata": {},
   "outputs": [],
   "source": [
    "#Only use quant variables and drop any rows with missing values\n",
    "num_vars = df_EP[['Salary', 'ExpectedSalary', 'CareerSatisfaction', 'HoursPerWeek', 'JobSatisfaction']]\n",
    "#df_dropna = num_vars.dropna(axis=0)\n",
    "drop_sal_df= num_vars.dropna(subset=['JobSatisfaction'], axis=0) #Drop the rows with missing 'JobSatisfaction'\n",
    "drop_sal_df = drop_sal_df.dropna(how='all', axis=1)# Drop all-Nan columns"
   ]
  },
  {
   "cell_type": "code",
   "execution_count": 307,
   "metadata": {},
   "outputs": [],
   "source": [
    "# turning Model\n",
    "#import math\n",
    "#drop_sal_df['HoursPerWeek'] = drop_sal_df['HoursPerWeek'].apply(lambda x: x**3 if x>0 else 0)"
   ]
  },
  {
   "cell_type": "code",
   "execution_count": 311,
   "metadata": {},
   "outputs": [],
   "source": [
    "fill_mean = lambda col: col.fillna(col.mean()) # Mean function\n",
    "fill_df = drop_sal_df.apply(fill_mean, axis=0) #Fill all missing values with the mean of the column."
   ]
  },
  {
   "cell_type": "markdown",
   "metadata": {},
   "source": [
    "# Model and Results\n",
    "We use linear regression model, since all the variables are quantity. The r-squared score of the model are used to evaluate the results."
   ]
  },
  {
   "cell_type": "code",
   "execution_count": 312,
   "metadata": {},
   "outputs": [
    {
     "data": {
      "text/plain": [
       "'The r-squared score for your model was 0.39532192323229065 on test data,0.41702017085622967 on training data.'"
      ]
     },
     "execution_count": 312,
     "metadata": {},
     "output_type": "execute_result"
    }
   ],
   "source": [
    "#Split into explanatory and response variables\n",
    "X = fill_df.drop('JobSatisfaction',axis = 1)\n",
    "y = fill_df['JobSatisfaction']\n",
    "\n",
    "#Split into train and test\n",
    "X_train, X_test, y_train, y_test = train_test_split(X, y, test_size = .30, random_state=1) \n",
    "\n",
    "lm_model = LinearRegression() # Instantiate\n",
    "lm_model.fit(X_train, y_train) #Fit\n",
    "        \n",
    "#Predict and score the model\n",
    "y_train_preds = lm_model.predict(X_train) \n",
    "y_test_preds = lm_model.predict(X_test) \n",
    "#Rsquared \n",
    "rsquared_score_train = r2_score(y_train, y_train_preds)\n",
    "rsquared_score_test = r2_score(y_test, y_test_preds)\n",
    "#length_y_test = len(y_test)\n",
    "\n",
    "\"The r-squared score for your model was {} on test data,{} on training data.\".format(rsquared_score_test,rsquared_score_train)"
   ]
  },
  {
   "cell_type": "code",
   "execution_count": 210,
   "metadata": {},
   "outputs": [
    {
     "data": {
      "text/plain": [
       "array([  1.27547948e-06,   7.48732162e-01,  -1.49725343e-02])"
      ]
     },
     "execution_count": 210,
     "metadata": {},
     "output_type": "execute_result"
    }
   ],
   "source": [
    "lm_model.coef_"
   ]
  },
  {
   "cell_type": "code",
   "execution_count": null,
   "metadata": {},
   "outputs": [],
   "source": []
  }
 ],
 "metadata": {
  "kernelspec": {
   "display_name": "Python 3",
   "language": "python",
   "name": "python3"
  },
  "language_info": {
   "codemirror_mode": {
    "name": "ipython",
    "version": 3
   },
   "file_extension": ".py",
   "mimetype": "text/x-python",
   "name": "python",
   "nbconvert_exporter": "python",
   "pygments_lexer": "ipython3",
   "version": "3.6.3"
  }
 },
 "nbformat": 4,
 "nbformat_minor": 2
}
